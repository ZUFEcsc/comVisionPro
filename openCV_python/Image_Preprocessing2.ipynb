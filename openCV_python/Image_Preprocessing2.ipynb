{
 "cells": [
  {
   "cell_type": "markdown",
   "metadata": {},
   "source": [
    "# 3.3 图像形态学处理"
   ]
  },
  {
   "cell_type": "code",
   "execution_count": 1,
   "metadata": {
    "collapsed": true
   },
   "outputs": [],
   "source": [
    "import cv2  #opencv 读取进来为BGR格式\n",
    "import matplotlib.pyplot as plt\n",
    "import numpy as np\n",
    "\n",
    "#一个魔法指令，不需要采用plt.show()显示图像\n",
    "%matplotlib inline   "
   ]
  },
  {
   "cell_type": "code",
   "execution_count": 2,
   "metadata": {
    "collapsed": true
   },
   "outputs": [],
   "source": [
    "def cv_show(name,img):\n",
    "    cv2.imshow(name,img)\n",
    "    cv2.waitKey(0)\n",
    "    cv2.destroyAllWindows()"
   ]
  },
  {
   "cell_type": "code",
   "execution_count": 20,
   "metadata": {},
   "outputs": [],
   "source": [
    "img = cv2.imread('images/dige.png',0)\n",
    "\n",
    "kernel = np.ones((5,5),np.uint8)\n",
    "\n",
    "erosion = cv2.erode(img,kernel,iterations = 1)\n",
    "\n",
    "dilation = cv2.dilate(img,kernel,iterations =1) \n",
    "\n",
    "#plt.subplot(121),plt.imshow(erosion),plt.title('erosion')\n",
    "#plt.subplot(122),plt.imshow(dilation),plt.title('dilation')\n",
    "\n",
    "res = np.hstack((img,erosion))\n",
    "\n",
    "res2 = np.hstack((img,dilation))\n",
    "\n",
    "#cv_show('erosion',res)\n",
    "cv_show('dilation',res2)\n",
    "\n",
    "#print(erosion.shape)"
   ]
  },
  {
   "cell_type": "code",
   "execution_count": 16,
   "metadata": {
    "collapsed": true
   },
   "outputs": [],
   "source": [
    "pie = cv2.imread('images/pie.png')\n",
    "\n",
    "cv_show('pie',pie)"
   ]
  },
  {
   "cell_type": "code",
   "execution_count": 17,
   "metadata": {
    "collapsed": true
   },
   "outputs": [],
   "source": [
    "kernel = np.ones((10,10),np.uint8)\n",
    "\n",
    "erode_1 = cv2.erode(pie,kernel,iterations = 1)\n",
    "erode_2 = cv2.erode(pie,kernel,iterations = 2)\n",
    "erode_3 = cv2.erode(pie,kernel,iterations = 3)\n",
    "\n",
    "res3 = np.hstack((erode_1,erode_2,erode_3))\n",
    "\n",
    "cv_show('erode',res3)"
   ]
  },
  {
   "cell_type": "code",
   "execution_count": 18,
   "metadata": {
    "collapsed": true
   },
   "outputs": [],
   "source": [
    "kernel = np.ones((10,10),np.uint8)\n",
    "\n",
    "dilate_1 = cv2.dilate(pie,kernel,iterations = 1)\n",
    "dilate_2 = cv2.dilate(pie,kernel,iterations = 2)\n",
    "dilate_3 = cv2.dilate(pie,kernel,iterations = 3)\n",
    "\n",
    "res4 = np.hstack((dilate_1,dilate_2,dilate_3))\n",
    "\n",
    "cv_show('dilate',res4)"
   ]
  },
  {
   "cell_type": "markdown",
   "metadata": {},
   "source": [
    "## 3. 开运算 \n",
    "### 开运算只是**侵蚀然后扩张**的另一个名称"
   ]
  },
  {
   "cell_type": "code",
   "execution_count": 43,
   "metadata": {},
   "outputs": [],
   "source": [
    "img_open = cv2.imread('images/dige.png',0)\n",
    "\n",
    "kernel = np.ones((5,5),np.uint8)\n",
    "\n",
    "opening = cv2.morphologyEx(img_open, cv2.MORPH_OPEN, kernel) \n",
    "\n",
    "res5 = np.hstack((img_open, opening))\n",
    "\n",
    "cv_show('opening',res5)"
   ]
  },
  {
   "cell_type": "markdown",
   "metadata": {},
   "source": [
    "## 4.闭运算（先膨胀后腐蚀）"
   ]
  },
  {
   "cell_type": "code",
   "execution_count": 23,
   "metadata": {
    "collapsed": true
   },
   "outputs": [],
   "source": [
    "img_close = cv2.imread('images/dige.png',0)\n",
    "\n",
    "kernel = np.ones((5,5),np.uint8)\n",
    "\n",
    "closing = cv2.morphologyEx(img_close, cv2.MORPH_CLOSE, kernel) \n",
    "\n",
    "res6 = np.hstack((img_close, closing))\n",
    "\n",
    "cv_show('closing',res6)"
   ]
  },
  {
   "cell_type": "markdown",
   "metadata": {},
   "source": [
    "## 梯度运算"
   ]
  },
  {
   "cell_type": "code",
   "execution_count": 31,
   "metadata": {},
   "outputs": [],
   "source": [
    "# 梯度 = 膨胀-腐蚀\n",
    "pie = cv2.imread('images/pie.png')\n",
    "\n",
    "kernel = np.ones((5,5),np.uint8)\n",
    "\n",
    "dilated = cv2.dilate(pie,kernel, iterations =1)\n",
    "erosion = cv2.erode(pie,kernel, iterations =1)\n",
    "\n",
    "res7 = np.hstack((dilated, erosion, dilated-erosion))\n",
    "\n",
    "cv_show('Gradient', res7)"
   ]
  },
  {
   "cell_type": "code",
   "execution_count": 34,
   "metadata": {},
   "outputs": [],
   "source": [
    "gradient = cv2.morphologyEx(pie, cv2.MORPH_GRADIENT, kernel) \n",
    "\n",
    "cv_show('gradient', gradient)"
   ]
  },
  {
   "cell_type": "markdown",
   "metadata": {},
   "source": [
    "## 礼帽与黑帽\n",
    " - 礼帽 = 原始输入-开运算结果\n",
    " - 黑帽 = 闭运算-原始输入"
   ]
  },
  {
   "cell_type": "code",
   "execution_count": 42,
   "metadata": {},
   "outputs": [],
   "source": [
    "img = cv2.imread('images/dige.png')\n",
    "\n",
    "kernel = np.ones((5,5),np.uint8)\n",
    "\n",
    "tophat = cv2.morphologyEx(img, cv2.MORPH_TOPHAT, kernel)\n",
    "\n",
    "res8 = np.hstack((img, tophat))\n",
    "\n",
    "cv_show('tophat', res8)"
   ]
  },
  {
   "cell_type": "code",
   "execution_count": 44,
   "metadata": {
    "collapsed": true
   },
   "outputs": [],
   "source": [
    "img = cv2.imread('images/dige.png')\n",
    "\n",
    "kernel = np.ones((5,5),np.uint8)\n",
    "\n",
    "blackhat = cv2.morphologyEx(img, cv2.MORPH_BLACKHAT, kernel) \n",
    "\n",
    "res9 = np.hstack((img, blackhat))\n",
    "\n",
    "cv_show('blackhat', res9)"
   ]
  }
 ],
 "metadata": {
  "kernelspec": {
   "display_name": "Python 3",
   "language": "python",
   "name": "python3"
  },
  "language_info": {
   "codemirror_mode": {
    "name": "ipython",
    "version": 3
   },
   "file_extension": ".py",
   "mimetype": "text/x-python",
   "name": "python",
   "nbconvert_exporter": "python",
   "pygments_lexer": "ipython3",
   "version": "3.6.3"
  }
 },
 "nbformat": 4,
 "nbformat_minor": 2
}
